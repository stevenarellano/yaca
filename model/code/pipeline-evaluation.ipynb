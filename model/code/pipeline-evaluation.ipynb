{
 "cells": [
  {
   "cell_type": "markdown",
   "metadata": {},
   "source": [
    "https://github.com/parallelcodefoundry/ParEval?tab=readme-ov-file\n",
    "\n",
    "https://github.com/parallelcodefoundry/ParEval/blob/develop/prompts/generation-prompts.json\n",
    "https://github.com/parallelcodefoundry/ParEval/blob/develop/analysis/metrics-scaling.py -- use for calcualting its ability to do scalable code\n",
    "https://github.com/parallelcodefoundry/ParEval/blob/develop/analysis/metrics.py\n"
   ]
  },
  {
   "cell_type": "markdown",
   "metadata": {},
   "source": []
  }
 ],
 "metadata": {
  "language_info": {
   "name": "python"
  }
 },
 "nbformat": 4,
 "nbformat_minor": 2
}
